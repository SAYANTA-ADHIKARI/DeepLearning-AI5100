{
 "cells": [
  {
   "attachments": {},
   "cell_type": "markdown",
   "metadata": {},
   "source": [
    "# Deep Learning (AI5100)\n",
    "## Assignment 2: <i>Convolutional Neural Networks</i>\n",
    "\n",
    "<b>Name</b> - Sayanta Adhikari </br>\n",
    "<b>Roll No</b> - AI22MTECH12005"
   ]
  },
  {
   "attachments": {},
   "cell_type": "markdown",
   "metadata": {},
   "source": [
    "#### Problems"
   ]
  },
  {
   "cell_type": "code",
   "execution_count": 1,
   "metadata": {},
   "outputs": [],
   "source": [
    "import numpy as np\n",
    "import matplotlib.pyplot as plt\n",
    "import seaborn as sns\n",
    "import matplotlib\n",
    "\n",
    "sns.set_style('darkgrid')\n",
    "matplotlib.rcParams['font.size'] = 14\n",
    "matplotlib.rcParams['figure.figsize'] = (10, 7)\n",
    "matplotlib.rcParams['figure.facecolor'] = '#00000000'\n",
    "np.random.seed(33)"
   ]
  },
  {
   "attachments": {},
   "cell_type": "markdown",
   "metadata": {},
   "source": [
    "1. Convolution Function"
   ]
  },
  {
   "cell_type": "code",
   "execution_count": 2,
   "metadata": {},
   "outputs": [],
   "source": [
    "# Activation functions\n",
    "\n",
    "def sigmoid(X: np.ndarray):\n",
    "    return 1/(1 + np.exp(-1 * X))\n",
    "\n",
    "def tanh(X: np.ndarray):\n",
    "    return (np.exp(2 * X) - 1 ) / (np.exp(2 * X) + 1 )\n",
    "\n",
    "def relu(X: np.ndarray):\n",
    "    return X * (X > 0)\n",
    "\n",
    "def prelu(X: np.ndarray, a: float = 0.02):\n",
    "    return X * (X > 0) + a * X * (X <= 0)\n",
    "\n",
    "# Padding function\n",
    "\n",
    "def padding(img: np.ndarray, pad: int, pad_type: str):\n",
    "    n, m, c = img.shape\n",
    "    if pad_type == 'zero':\n",
    "        img_new = np.zeros([n + 2*pad, m + 2*pad, c])\n",
    "        img_new[pad: -pad, pad: -pad, :] = img\n",
    "        return img_new\n",
    "    if pad_type == 'mirror':\n",
    "        img_new = np.zeros([n + 2*pad, m + 2*pad, c])\n",
    "        img_new[pad: -pad, pad: -pad, :] = img\n",
    "        img_new[pad: -pad, 0: pad, :] = img[:, 0: pad, :]\n",
    "        img_new[pad: -pad, -pad: , :] = img[:, -pad: , :]\n",
    "        img_new[0: pad, pad: -pad, :] = img[0: pad, :, :]\n",
    "        img_new[-pad: , pad: -pad, :] = img[-pad: , :, :]\n",
    "        return img_new"
   ]
  },
  {
   "cell_type": "code",
   "execution_count": null,
   "metadata": {},
   "outputs": [],
   "source": [
    "# convolution function\n",
    "def convolution(img: np.ndarray, filter: np.ndarray, stride: int, pad: int, pad_type: str, activation_fn: str):\n",
    "    # Default values\n",
    "    ACTIVATION_FN = {'relu': relu, 'sigmoid': sigmoid, 'tanh': tanh, 'prelu': prelu}\n",
    "    PAD_TYPE = {'zero', 'mirror', 'none'}\n",
    "\n",
    "    # Parameter Checks\n",
    "    if activation_fn not in ACTIVATION_FN.keys():\n",
    "        raise ValueError(\"convolution: activation_fn must be one of %r .\" % ACTIVATION_FN)\n",
    "    if pad_type not in PAD_TYPE:\n",
    "        raise ValueError(\"convolution: pad_type must be one of %r .\" % PAD_TYPE)\n",
    "\n",
    "    n, m, c_i = img.shape ; k1, k2, c_f = filter.shape\n",
    "\n",
    "    if k1 % 2 == 0 or k2 % 2 == 0:\n",
    "        raise ValueError(\"convolution: filter shape dimensions must be odd.\")\n",
    "    if c_i != c_f:\n",
    "        raise ValueError(\"convolution: img and filter channel dimension must match.\")\n",
    "    if (n + 2* pad - k1)/stride != (n + 2* pad - k1)//stride:\n",
    "        raise ValueError(\"convolution: (img.shape[0] + 2*pad - filter.shape[0])/stride must be an integer.\")\n",
    "    if (m + 2* pad - k2)/stride != (m + 2* pad - k2)//stride:\n",
    "        raise ValueError(\"convolution: (img.shape[1] + 2*pad - filter.shape[1])/stride must be an integer.\")\n",
    "\n",
    "    # Applying padding\n",
    "    if pad_type != 'none':\n",
    "        img = padding(img, pad, pad_type)\n",
    "        n = n + 2*pad; m = m + 2*pad\n",
    "\n",
    "    s1 = n - k1 + stride; s2 = m - k2 + stride\n",
    "\n",
    "    # Performing convolution\n",
    "    activation = np.zeros([s1/stride, s2/stride])\n",
    "    k, l = 0, 0\n",
    "    for i in range(k1//2, s1, stride):\n",
    "        for j in range(k2//2, s2, stride):\n",
    "            temp = img[i - k1//2: i + k1//2 + 1, j - k2//2: j + k2//2 + 1, :] * filter\n",
    "            activation[k, l] = np.sum(temp)\n",
    "            k +=1; l += 1\n",
    "    return ACTIVATION_FN[activation_fn](activation)"
   ]
  },
  {
   "cell_type": "code",
   "execution_count": null,
   "metadata": {},
   "outputs": [],
   "source": []
  }
 ],
 "metadata": {
  "kernelspec": {
   "display_name": "base",
   "language": "python",
   "name": "python3"
  },
  "language_info": {
   "codemirror_mode": {
    "name": "ipython",
    "version": 3
   },
   "file_extension": ".py",
   "mimetype": "text/x-python",
   "name": "python",
   "nbconvert_exporter": "python",
   "pygments_lexer": "ipython3",
   "version": "3.7.15"
  },
  "orig_nbformat": 4,
  "vscode": {
   "interpreter": {
    "hash": "b6bfb108807e4d80979e746185bdca53d8d1778a2301eb8e838e634113d88b6d"
   }
  }
 },
 "nbformat": 4,
 "nbformat_minor": 2
}
