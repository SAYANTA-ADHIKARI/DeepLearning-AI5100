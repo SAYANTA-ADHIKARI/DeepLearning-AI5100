{
 "cells": [
  {
   "attachments": {},
   "cell_type": "markdown",
   "metadata": {},
   "source": [
    "# Deep Learning (AI5100)\n",
    "## Assignment 5: <i>Attention, AE and VAE</i>\n",
    "\n",
    "<b>Name</b> - Sayanta Adhikari </br>\n",
    "<b>Roll No</b> - AI22MTECH12005"
   ]
  },
  {
   "cell_type": "code",
   "execution_count": null,
   "metadata": {},
   "outputs": [],
   "source": []
  }
 ],
 "metadata": {
  "language_info": {
   "name": "python"
  },
  "orig_nbformat": 4
 },
 "nbformat": 4,
 "nbformat_minor": 2
}
